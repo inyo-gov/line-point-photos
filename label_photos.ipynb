{
 "cells": [
  {
   "cell_type": "code",
   "execution_count": null,
   "metadata": {},
   "outputs": [],
   "source": [
    "# Here we are just labeling the photos for the next year's field crew to take the printed images in the field\n",
    "# with a clear label since the white board is sometimes hard to read\n",
    "# grab each photo, make a copy, place in new directory and label photos with parcel, transect and bearing\n",
    "# may include date - add\n",
    "\n",
    "import os\n",
    "from PIL import Image, ImageDraw, ImageFont\n",
    "\n",
    "# Directories\n",
    "input_dir = \"downloaded_photos\"\n",
    "output_dir = \"labeled_photos\"\n",
    "os.makedirs(output_dir, exist_ok=True)\n",
    "\n",
    "# Font settings for the labels\n",
    "font_path = \"arial.ttf\"  # Update with the path to your desired font file\n",
    "font_size = 24\n",
    "font = ImageFont.truetype(font_path, font_size)\n",
    "\n",
    "def add_label_to_image(input_path, output_path, label_text):\n",
    "    image = Image.open(input_path)\n",
    "    draw = ImageDraw.Draw(image)\n",
    "    # Set position and color for the label text\n",
    "    position = (10, 10)\n",
    "    color = \"white\"\n",
    "    \n",
    "    # Add text to image\n",
    "    draw.text(position, label_text, fill=color, font=font)\n",
    "    image.save(output_path)\n",
    "\n",
    "# Loop through each photo in the input directory\n",
    "for filename in os.listdir(input_dir):\n",
    "    if filename.endswith(\".jpg\"):\n",
    "        input_path = os.path.join(input_dir, filename)\n",
    "        output_path = os.path.join(output_dir, filename)\n",
    "\n",
    "        # Assuming the filename format is 'Parcel_TRANSECT_BEARING.jpg'\n",
    "        base_name = os.path.splitext(filename)[0]\n",
    "        parcel, transect, bearing = base_name.split('_')\n",
    "\n",
    "        label_text = f\"Parcel: {parcel}\\nTRANSECT: {transect}\\nBEARING: {bearing}\"\n",
    "        add_label_to_image(input_path, output_path, label_text)\n",
    "        print(f\"Labeled: {filename}\")\n",
    "\n",
    "print(\"Labeling completed.\")\n"
   ]
  }
 ],
 "metadata": {
  "kernelspec": {
   "display_name": "Python 3",
   "language": "python",
   "name": "python3"
  },
  "language_info": {
   "name": "python",
   "version": "3.9.11"
  }
 },
 "nbformat": 4,
 "nbformat_minor": 2
}
